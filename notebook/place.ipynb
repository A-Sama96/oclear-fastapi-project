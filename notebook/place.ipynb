{
 "cells": [
  {
   "cell_type": "code",
   "execution_count": null,
   "id": "5b2f1aff",
   "metadata": {},
   "outputs": [],
   "source": [
    "from place_correct import answers\n",
    "import os\n",
    "from image_straighten import redress"
   ]
  },
  {
   "cell_type": "code",
   "execution_count": null,
   "id": "d2a8243e",
   "metadata": {},
   "outputs": [],
   "source": [
    "def pred_place(self):\n",
    "        try:\n",
    "            dic=dict(enumerate(list('ABCDEFGHIJKLMNOPQRSTUVWXYZ')))\n",
    "            img=preprocessing(self.place[0])\n",
    "            img=redress(img)\n",
    "            result=seg_let(img,size=640)\n",
    "            df=result.pandas().xyxy[0]\n",
    "            df=df.sort_values(by='xmin',ignore_index=True)\n",
    "            chars=get_bbox(img,df,'A')\n",
    "            final=[]\n",
    "            for img in chars:\n",
    "                img=cv2.resize(img,(28,28))\n",
    "                img=img.reshape(1,28,28,1)\n",
    "                pred=dic[letter.predict(img).argmax()]\n",
    "                final.append(pred)\n",
    "            final=\"\".join(final)\n",
    "            final=answers(final)\n",
    "        except:\n",
    "            if len(self.place)==0:\n",
    "                return 'Pas de date'\n",
    "            else:\n",
    "                final=''\n",
    "\n",
    "        return final"
   ]
  },
  {
   "cell_type": "code",
   "execution_count": null,
   "id": "1091302a",
   "metadata": {},
   "outputs": [],
   "source": [
    "letter=load_model('mnist.h5')\n",
    "seg_let=torch.hub.load('yolov5/', 'custom', source='local', path = '2.pt', force_reload = True)"
   ]
  },
  {
   "cell_type": "code",
   "execution_count": null,
   "id": "327818a4",
   "metadata": {},
   "outputs": [],
   "source": [
    "d.pred_place()"
   ]
  }
 ],
 "metadata": {
  "interpreter": {
   "hash": "bc2838bb56873125c6e8f997a944a0436139b994d47cbdd973713f658a593959"
  },
  "kernelspec": {
   "display_name": "Python 3.9.13 ('tensorflow')",
   "language": "python",
   "name": "python3"
  },
  "language_info": {
   "codemirror_mode": {
    "name": "ipython",
    "version": 3
   },
   "file_extension": ".py",
   "mimetype": "text/x-python",
   "name": "python",
   "nbconvert_exporter": "python",
   "pygments_lexer": "ipython3",
   "version": "3.9.13"
  }
 },
 "nbformat": 4,
 "nbformat_minor": 5
}
